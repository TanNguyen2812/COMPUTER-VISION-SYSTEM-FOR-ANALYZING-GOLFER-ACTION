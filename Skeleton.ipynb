{
 "cells": [
  {
   "cell_type": "code",
   "execution_count": 80,
   "metadata": {},
   "outputs": [],
   "source": [
    "from typing import Any\n",
    "import numpy as np \n",
    "from scipy.spatial.transform import Rotation as R\n",
    "\n",
    "class RandomRot:\n",
    "\n",
    "    def __init__(self, theta=np.pi*10/180):\n",
    "        self.theta = theta\n",
    "\n",
    "    def _rot3d(self, theta):\n",
    "        cos, sin = np.cos(theta), np.sin(theta)\n",
    "        rx = np.array([[1, 0, 0], [0, cos[0], sin[0]], [0, -sin[0], cos[0]]])\n",
    "        ry = np.array([[cos[1], 0, -sin[1]], [0, 1, 0], [sin[1], 0, cos[1]]])\n",
    "        rz = np.array([[cos[2], sin[2], 0], [-sin[2], cos[2], 0], [0, 0, 1]])\n",
    "\n",
    "        rot = np.matmul(rz, np.matmul(ry, rx))\n",
    "        return rot\n",
    "\n",
    "    def _rot2d(self, theta):\n",
    "        cos, sin = np.cos(theta), np.sin(theta)\n",
    "        return np.array([[cos, -sin], [sin, cos]])\n",
    "\n",
    "    def __call__(self, kp):\n",
    "        skeleton = kp[:,:,:2]\n",
    "        T, V, C = skeleton.shape\n",
    "\n",
    "        if np.all(np.isclose(skeleton, 0)):\n",
    "            return results\n",
    "\n",
    "        assert C in [2, 3]\n",
    "        if C == 3:\n",
    "            theta = np.random.uniform(-self.theta, self.theta, size=3)\n",
    "            rot_mat = self._rot3d(theta)\n",
    "        elif C == 2:\n",
    "            theta = np.random.uniform(-self.theta, self.theta)\n",
    "            rot_mat = self._rot2d(theta)\n",
    "        results = kp.copy()\n",
    "        \n",
    "        results[:,:,:2] = np.einsum('ab,tvb->tva', rot_mat, skeleton)\n",
    "\n",
    "        return results\n",
    "    \n",
    "    \n",
    "class RandomScale:\n",
    "\n",
    "    def __init__(self, scale=0.1):\n",
    "        assert isinstance(scale, tuple) or isinstance(scale, float)\n",
    "        self.scale = scale\n",
    "\n",
    "    def __call__(self, kp):\n",
    "        skeleton = kp[:,:,:2]\n",
    "        scale = self.scale\n",
    "        if isinstance(scale, float):\n",
    "            scale = (scale, ) * skeleton.shape[-1]\n",
    "        assert len(scale) == skeleton.shape[-1]\n",
    "        # scale = 1 + np.random.uniform(-1, 1, size=len(scale)) * np.array(scale)\n",
    "        results = kp.copy()\n",
    "        results[:,:,:2] = skeleton * scale\n",
    "        return results\n",
    "\n",
    "\n",
    "class RandomFlip:\n",
    "    def __init__(self, flip_prob=0.5):\n",
    "        self.flip_prob1 = flip_prob\n",
    "        \n",
    "    def __call__(self, kp, image_size=(480, 640)):\n",
    "        skeleton = kp[:,:,:2]\n",
    "        results = kp.copy()\n",
    "        if np.random.uniform(low=-0, high=1) > 0.5: \n",
    "            # x_center = np.expand_dims(0.5*(skeleton[:,5,0] + skeleton[:,6,0]),axis=1)\n",
    "            # center = np.concatenate((x_center, np.zeros_like(x_center)), axis=1)\n",
    "            results[:,:,:2] = skeleton*[-1, 1] + [0.5*image_size[0], 0]\n",
    "        return results\n",
    "\n",
    "class RandomAngle: \n",
    "    def __init__(self):\n",
    "        self.mu, self.sigma = 0, 10.0\n",
    "\n",
    "    def __call__(self, kp):\n",
    "        skeleton = kp[:,:,:2]\n",
    "        results = kp.copy()"
   ]
  },
  {
   "cell_type": "code",
   "execution_count": 172,
   "metadata": {},
   "outputs": [],
   "source": [
    "import numpy as np \n",
    "\n",
    "class RandomRot:\n",
    "\n",
    "    def __init__(self, theta=np.pi*15/180):\n",
    "        self.theta = theta\n",
    "\n",
    "    def _rot3d(self, theta):\n",
    "        cos, sin = np.cos(theta), np.sin(theta)\n",
    "        rx = np.array([[1, 0, 0], [0, cos[0], sin[0]], [0, -sin[0], cos[0]]])\n",
    "        ry = np.array([[cos[1], 0, -sin[1]], [0, 1, 0], [sin[1], 0, cos[1]]])\n",
    "        rz = np.array([[cos[2], sin[2], 0], [-sin[2], cos[2], 0], [0, 0, 1]])\n",
    "\n",
    "        rot = np.matmul(rz, np.matmul(ry, rx))\n",
    "        return rot\n",
    "\n",
    "    def _rot2d(self, theta):\n",
    "        cos, sin = np.cos(theta), np.sin(theta)\n",
    "        return np.array([[cos, -sin], [sin, cos]])\n",
    "\n",
    "    def __call__(self, kp):\n",
    "        skeleton = kp[:,:,:2].copy()\n",
    "        T, V, C = skeleton.shape\n",
    "\n",
    "        if np.all(np.isclose(skeleton, 0)):\n",
    "            return results\n",
    "\n",
    "        assert C in [2, 3]\n",
    "        if C == 3:\n",
    "            theta = np.random.uniform(-self.theta, self.theta, size=3)\n",
    "            rot_mat = self._rot3d(theta)\n",
    "        elif C == 2:\n",
    "            theta = np.random.uniform(-self.theta, self.theta)\n",
    "            rot_mat = self._rot2d(theta)\n",
    "        results = kp.copy()\n",
    "        \n",
    "        results[:,:,:2] = np.einsum('ab,tvb->tva', rot_mat, skeleton)\n",
    "\n",
    "        return results\n",
    "    \n",
    "    \n",
    "class RandomScale:\n",
    "\n",
    "    def __init__(self, scale=0.1):\n",
    "        assert isinstance(scale, tuple) or isinstance(scale, float)\n",
    "        self.scale = scale\n",
    "\n",
    "    def __call__(self, kp):\n",
    "        skeleton = kp[:,:,:2]\n",
    "        scale = self.scale\n",
    "        if isinstance(scale, float):\n",
    "            scale = (scale, ) * skeleton.shape[-1]\n",
    "        assert len(scale) == skeleton.shape[-1]\n",
    "        scale = 1 + np.random.uniform(-1, 1, size=len(scale)) * np.array(scale)\n",
    "        results = kp.copy()\n",
    "        results[:,:,:2] = skeleton * scale\n",
    "        return results\n",
    "\n",
    "\n",
    "class RandomFlip:\n",
    "    def __init__(self, flip_prob=0.5):\n",
    "        self.flip_prob1 = flip_prob\n",
    "        \n",
    "    def __call__(self, kp, image_size):\n",
    "        skeleton = kp[:,:,:2]\n",
    "        results = kp.copy()\n",
    "        if np.random.uniform(low=-0, high=1) > 0.5: \n",
    "            # x_center = np.expand_dims(0.5*(skeleton[:,5,0] + skeleton[:,6,0]),axis=1)\n",
    "            # center = np.concatenate((x_center, np.zeros_like(x_center)), axis=1)\n",
    "            results[:,:,:2] = skeleton*[-1, 1] + [image_size[1], 0]\n",
    "        return results\n"
   ]
  },
  {
   "cell_type": "code",
   "execution_count": 82,
   "metadata": {},
   "outputs": [],
   "source": [
    "import pandas as pd \n",
    "skeleton  = pd.read_pickle('chicken_swing (4).pkl')[0]"
   ]
  },
  {
   "cell_type": "code",
   "execution_count": 173,
   "metadata": {},
   "outputs": [],
   "source": [
    "import cv2 \n",
    "def vis_pose(image, pose_result, threshold=0.3, node_label=None):\n",
    "    \n",
    "    keypoints = pose_result[:,:2]\n",
    "    keypoints_score = pose_result[:,2]\n",
    "\n",
    "    skeleton_edge = [[15, 13], [13, 11], [16, 14], [14, 12], [11, 12],\n",
    "                        [5, 11], [6, 12], [5, 6], [5, 7], [6, 8], [7, 9],\n",
    "                        [8, 10], [1, 2], [0, 1], [0, 2], [1,   3], [2, 4],\n",
    "                        [3, 5], [4, 6]]\n",
    "    for edge in skeleton_edge:\n",
    "        start = keypoints[edge[0]]\n",
    "        end = keypoints[edge[1]]\n",
    "        if keypoints_score[edge[0]] < threshold or keypoints_score[edge[1]] < threshold:\n",
    "            continue\n",
    "        image = cv2.line(image, (int(start[0]), int(start[1])), (int(end[0]), int(end[1])), (255, 255, 0), 2)\n",
    "\n",
    "    for i in range(17):\n",
    "        if keypoints_score[i] < threshold:\n",
    "            continue\n",
    "        (x, y) = keypoints[i]\n",
    "        if node_label is None:\n",
    "            color = (255, 255, 255)\n",
    "        else:\n",
    "            if node_label[i] == 0:\n",
    "                color = (255, 255, 255)\n",
    "            elif node_label[i] == 1:\n",
    "                color = (0, 0, 255)\n",
    "            elif node_label[i] == 2:\n",
    "                color = (255, 0, 0)\n",
    "\n",
    "        image = cv2.circle(image, (int(x), int(y)), 8, color, -1)\n",
    "\n",
    "    # image_vis = cv2.rectangle(image, (int(bbox[0]), int(bbox[1])), (int(bbox[2]), int(bbox[3])), (0, 255, 0), 1)\n",
    "    return image\n"
   ]
  },
  {
   "cell_type": "code",
   "execution_count": 174,
   "metadata": {},
   "outputs": [],
   "source": [
    "random_rot = RandomRot()\n",
    "random_scale = RandomScale(scale=0.3)\n",
    "random_flip = RandomFlip()"
   ]
  },
  {
   "cell_type": "code",
   "execution_count": 175,
   "metadata": {},
   "outputs": [],
   "source": [
    "\n",
    "def spatial_agumentation(kp, image_size, theta=np.pi*10/180, scale=0.2): \n",
    "    random_rot = RandomRot(theta)\n",
    "    random_scale = RandomScale(scale)\n",
    "    random_flip = RandomFlip(0.5)\n",
    "    kp = random_flip(kp, image_size)\n",
    "    if np.random.uniform(high=1, low=0) > 0.5: \n",
    "        kp = random_rot(kp)\n",
    "    else: \n",
    "        kp = random_scale(kp)\n",
    "    return kp"
   ]
  },
  {
   "cell_type": "code",
   "execution_count": 176,
   "metadata": {},
   "outputs": [],
   "source": [
    "def resize_img(im, new_shape=(640, 480), color=(0, 0, 0), auto=False, scaleup=True, stride=32):\n",
    "    # Resize and pad image while meeting stride-multiple constraints\n",
    "    shape = im.shape[:2]  # current shape [height, width]\n",
    "    if isinstance(new_shape, int):\n",
    "        new_shape = (new_shape, new_shape)\n",
    "\n",
    "    # Scale ratio (new / old)\n",
    "    r = min(new_shape[0] / shape[0], new_shape[1] / shape[1])\n",
    "    if not scaleup:  # only scale down, do not scale up (for better val mAP)\n",
    "        r = min(r, 1.0)\n",
    "\n",
    "    # Compute padding\n",
    "    new_unpad = int(round(shape[1] * r)), int(round(shape[0] * r))\n",
    "    dw, dh = new_shape[1] - new_unpad[0], new_shape[0] - new_unpad[1]  # wh padding\n",
    "\n",
    "    if auto:  # minimum rectangle\n",
    "        dw, dh = np.mod(dw, stride), np.mod(dh, stride)  # wh padding\n",
    "\n",
    "    dw /= 2  # divide padding into 2 sides\n",
    "    dh /= 2\n",
    "\n",
    "    if shape[::-1] != new_unpad:  # resize\n",
    "        im = cv2.resize(im, new_unpad, interpolation=cv2.INTER_LINEAR)\n",
    "    top, bottom = int(round(dh - 0.1)), int(round(dh + 0.1))\n",
    "    left, right = int(round(dw - 0.1)), int(round(dw + 0.1))\n",
    "    im = cv2.copyMakeBorder(im, top, bottom, left, right, cv2.BORDER_CONSTANT, value=color)  # add border\n",
    "    return im"
   ]
  },
  {
   "cell_type": "code",
   "execution_count": 177,
   "metadata": {},
   "outputs": [
    {
     "data": {
      "text/plain": [
       "(17, 3)"
      ]
     },
     "execution_count": 177,
     "metadata": {},
     "output_type": "execute_result"
    }
   ],
   "source": [
    "kp.shape"
   ]
  },
  {
   "cell_type": "code",
   "execution_count": 223,
   "metadata": {},
   "outputs": [
    {
     "data": {
      "image/png": "[encoded data removed]",
      "text/plain": [
       "<Figure size 360x720 with 1 Axes>"
      ]
     },
     "metadata": {},
     "output_type": "display_data"
    }
   ],
   "source": [
    "import pandas as pd \n",
    "skeleton  = pd.read_pickle('sample3.pkl')[2]\n",
    "kp = skeleton['keypoints']\n",
    "image_size = skeleton['image size']\n",
    "label = skeleton['label']\n",
    "kp_aug = np.expand_dims(kp, axis=0)\n",
    "kp_aug = random_flip(kp_aug, image_size)\n",
    "kp = kp_aug[0]\n",
    "# kp = random_rot(kp)\n",
    "# kp = random_flip(kp, image_size)\n",
    "# kp = spatial_agumentation(kp, image_size)\n",
    "skeleton_frame = np.ones((image_size[0], image_size[1], 3), dtype=np.uint8) * 0\n",
    "frame_vis = vis_pose(skeleton_frame, kp)\n",
    "import matplotlib.pyplot as plt \n",
    "figure, axis = plt.subplots(1, 1)\n",
    "figure.set_dpi=400\n",
    "figure.set_size_inches(5, 10)\n",
    "axis.imshow(frame_vis)\n",
    "axis.set_xticks([])\n",
    "axis.set_yticks([])\n",
    "# plt.axis('off') \n",
    "figure.savefig('scale.png')\n"
   ]
  },
  {
   "cell_type": "code",
   "execution_count": 140,
   "metadata": {},
   "outputs": [
    {
     "data": {
      "text/plain": [
       "{'video name': '1.mp4',\n",
       " 'pose_results': array([[[538.25      , 153.83398   ,   0.8753094 ],\n",
       "         [547.875     , 142.81836   ,   0.91096485],\n",
       "         [527.25      , 144.19531   ,   0.91879445],\n",
       "         ...,\n",
       "         [469.5       , 462.27148   ,   0.8245953 ],\n",
       "         [626.25      , 587.5742    ,   0.9257623 ],\n",
       "         [428.25      , 587.5742    ,   0.9743818 ]],\n",
       " \n",
       "        [[539.6406    , 152.66406   ,   0.8858024 ],\n",
       "         [549.3021    , 141.63281   ,   0.9216312 ],\n",
       "         [528.599     , 144.39062   ,   0.9317892 ],\n",
       "         ...,\n",
       "         [470.6302    , 462.91797   ,   0.82554245],\n",
       "         [626.59375   , 588.39844   ,   0.93084675],\n",
       "         [429.22394   , 587.01953   ,   0.9712059 ]],\n",
       " \n",
       "        [[540.5105    , 152.66406   ,   0.89421684],\n",
       "         [550.1537    , 141.63281   ,   0.9308998 ],\n",
       "         [529.4896    , 143.01172   ,   0.9392243 ],\n",
       "         ...,\n",
       "         [470.25262   , 462.91797   ,   0.8278682 ],\n",
       "         [625.9219    , 588.39844   ,   0.93301195],\n",
       "         [428.9245    , 587.01953   ,   0.9689231 ]],\n",
       " \n",
       "        ...,\n",
       " \n",
       "        [[603.25      ,  95.53671   ,   0.94368535],\n",
       "         [597.4166    ,  83.895905  ,   0.7659563 ],\n",
       "         [588.6666    ,  88.2612    ,   0.90213466],\n",
       "         ...,\n",
       "         [508.4583    , 470.9531    ,   0.6329739 ],\n",
       "         [607.625     , 590.2715    ,   0.8418226 ],\n",
       "         [423.875     , 568.44495   ,   0.7243682 ]],\n",
       " \n",
       "        [[603.1719    ,  96.200806  ,   0.9714818 ],\n",
       "         [598.77344   ,  85.94467   ,   0.8193409 ],\n",
       "         [589.97656   ,  88.875     ,   0.92053145],\n",
       "         ...,\n",
       "         [507.87238   , 471.28278   ,   0.63816094],\n",
       "         [607.5703    , 589.9611    ,   0.84590274],\n",
       "         [422.83594   , 570.9139    ,   0.7339768 ]],\n",
       " \n",
       "        [[603.25      ,  95.93036   ,   0.97334045],\n",
       "         [598.875     ,  84.24182   ,   0.80716306],\n",
       "         [590.125     ,  88.625     ,   0.9163963 ],\n",
       "         ...,\n",
       "         [507.        , 471.4242    ,   0.6420944 ],\n",
       "         [607.625     , 589.7705    ,   0.85524225],\n",
       "         [422.41663   , 569.31555   ,   0.74047244]]], dtype=float32),\n",
       " 'label': [30, 148, 177, 246],\n",
       " 'image_size': (720, 1154)}"
      ]
     },
     "execution_count": 140,
     "metadata": {},
     "output_type": "execute_result"
    }
   ],
   "source": [
    "skeleton"
   ]
  },
  {
   "cell_type": "code",
   "execution_count": 16,
   "metadata": {},
   "outputs": [
    {
     "data": {
      "text/plain": [
       "[214, 296, 327, 380]"
      ]
     },
     "execution_count": 16,
     "metadata": {},
     "output_type": "execute_result"
    }
   ],
   "source": [
    "label"
   ]
  },
  {
   "cell_type": "code",
   "execution_count": 701,
   "metadata": {},
   "outputs": [],
   "source": [
    "def multi_input(data):\n",
    "    conn = ((0, 0), (1, 0), (2, 0), (3, 1), (4, 2), (5, 3), (6, 4), (7, 5), (8, 6), (9, 7), (10, 8),\n",
    "                          (11, 0), (12, 0), (13, 11), (14, 12), (15, 13), (16, 14))\n",
    "    data = np.transpose(data, (2, 0, 1)) # T V C -> C T V\n",
    "    C, T, V = data.shape \n",
    "    joint = np.zeros((C*2, T, V))\n",
    "    velocity = np.zeros((C*2, T, V))\n",
    "    bone = np.zeros((2*C,T, V))\n",
    "    joint[:C, :,:] = data\n",
    "    for i in range(V):\n",
    "        joint[C:,:,i] = data[:,:,i] - data[:,:,0]\n",
    "\n",
    "   \n",
    "\n",
    "    for i in range(T-2): \n",
    "        velocity[:C,i,:] = data[:,i+1,:] - data[:,i,:]\n",
    "        velocity[C:,i,:] = data[:,i+2,:] - data[:,i,:]\n",
    "\n",
    "\n",
    "    for v1, v2 in conn: \n",
    "      \n",
    "        bone[:C,:,v1] = data[:,:,v1] - data[:,:,v2]\n",
    "    bone_length = 0\n",
    "\n",
    "    for i in range(C): \n",
    "        bone_length += bone[i,:,:] ** 2\n",
    "    bone_length = np.sqrt(bone_length) + 0.0001\n",
    "\n",
    "    for i in range(C): \n",
    "        bone[C+i,:,:] = np.arccos(bone[i,:,:] / bone_length)\n",
    "    \n",
    "    return joint, velocity, bone\n",
    "\n",
    "    "
   ]
  },
  {
   "cell_type": "code",
   "execution_count": 702,
   "metadata": {},
   "outputs": [],
   "source": [
    "joint, velocity, bone = multi_input(kp[:,:,:2])"
   ]
  },
  {
   "cell_type": "code",
   "execution_count": 711,
   "metadata": {},
   "outputs": [],
   "source": [
    "rel = np.transpose(velocity, (1, 2, 0))[:,:,2:]"
   ]
  },
  {
   "cell_type": "code",
   "execution_count": 712,
   "metadata": {},
   "outputs": [],
   "source": [
    "def vis_pose(image, pose_result, threshold=0.3, node_label=None):\n",
    "    \n",
    "    keypoints = pose_result[:,:2]\n",
    "    # keypoints_score = pose_result[:,2]\n",
    "\n",
    "    skeleton_edge = [[15, 13], [13, 11], [16, 14], [14, 12], [11, 12],\n",
    "                        [5, 11], [6, 12], [5, 6], [5, 7], [6, 8], [7, 9],\n",
    "                        [8, 10], [1, 2], [0, 1], [0, 2], [1,   3], [2, 4],\n",
    "                        [3, 5], [4, 6]]\n",
    "    for edge in skeleton_edge:\n",
    "        start = keypoints[edge[0]]\n",
    "        end = keypoints[edge[1]]\n",
    "        # if keypoints_score[edge[0]] < threshold or keypoints_score[edge[1]] < threshold:\n",
    "            # continue\n",
    "        image = cv2.line(image, (int(start[0]), int(start[1])), (int(end[0]), int(end[1])), (255, 255, 0), 2)\n",
    "\n",
    "    for i in range(17):\n",
    "        # if keypoints_score[i] < threshold:\n",
    "        #     continue\n",
    "        (x, y) = keypoints[i]\n",
    "        if node_label is None:\n",
    "            color = (255, 255, 255)\n",
    "        else:\n",
    "            if node_label[i] == 0:\n",
    "                color = (255, 255, 255)\n",
    "            elif node_label[i] == 1:\n",
    "                color = (0, 0, 255)\n",
    "            elif node_label[i] == 2:\n",
    "                color = (255, 0, 0)\n",
    "\n",
    "        image = cv2.circle(image, (int(x), int(y)), 5, color, -1)\n",
    "\n",
    "    # image_vis = cv2.rectangle(image, (int(bbox[0]), int(bbox[1])), (int(bbox[2]), int(bbox[3])), (0, 255, 0), 1)\n",
    "    return image\n"
   ]
  },
  {
   "cell_type": "code",
   "execution_count": 713,
   "metadata": {},
   "outputs": [
    {
     "data": {
      "text/plain": [
       "[]"
      ]
     },
     "execution_count": 713,
     "metadata": {},
     "output_type": "execute_result"
    },
    {
     "data": {
      "image/png": "[encoded data removed]",
      "text/plain": [
       "<Figure size 360x720 with 1 Axes>"
      ]
     },
     "metadata": {},
     "output_type": "display_data"
    }
   ],
   "source": [
    "skeleton_frame = np.ones((image_size[0], image_size[1], 3), dtype=np.uint8) * 0\n",
    "frame_vis = vis_pose(skeleton_frame, rel[100])\n",
    "import matplotlib.pyplot as plt \n",
    "figure, axis = plt.subplots(1, 1)\n",
    "figure.set_dpi=400\n",
    "figure.set_size_inches(5, 10)\n",
    "axis.imshow(frame_vis)\n",
    "axis.set_xticks([])\n",
    "axis.set_yticks([])"
   ]
  },
  {
   "cell_type": "code",
   "execution_count": null,
   "metadata": {},
   "outputs": [],
   "source": []
  }
 ],
 "metadata": {
  "kernelspec": {
   "display_name": "Python 3",
   "language": "python",
   "name": "python3"
  },
  "language_info": {
   "codemirror_mode": {
    "name": "ipython",
    "version": 3
   },
   "file_extension": ".py",
   "mimetype": "text/x-python",
   "name": "python",
   "nbconvert_exporter": "python",
   "pygments_lexer": "ipython3",
   "version": "3.9.12"
  },
  "orig_nbformat": 4
 },
 "nbformat": 4,
 "nbformat_minor": 2
}
