{
 "cells": [
  {
   "cell_type": "code",
   "execution_count": 431,
   "metadata": {},
   "outputs": [],
   "source": [
    "import pandas as pd \n",
    "import cv2 \n",
    "import numpy as np \n"
   ]
  },
  {
   "cell_type": "code",
   "execution_count": 432,
   "metadata": {},
   "outputs": [],
   "source": [
    "def resize_img(im, new_shape=(640, 480), color=(0, 0, 0), auto=False, scaleup=True, stride=32):\n",
    "    # Resize and pad image while meeting stride-multiple constraints\n",
    "    shape = im.shape[:2]  # current shape [height, width]\n",
    "    if isinstance(new_shape, int):\n",
    "        new_shape = (new_shape, new_shape)\n",
    "\n",
    "    # Scale ratio (new / old)\n",
    "    r = min(new_shape[0] / shape[0], new_shape[1] / shape[1])\n",
    "    if not scaleup:  # only scale down, do not scale up (for better val mAP)\n",
    "        r = min(r, 1.0)\n",
    "\n",
    "    # Compute padding\n",
    "    new_unpad = int(round(shape[1] * r)), int(round(shape[0] * r))\n",
    "    dw, dh = new_shape[1] - new_unpad[0], new_shape[0] - new_unpad[1]  # wh padding\n",
    "\n",
    "    if auto:  # minimum rectangle\n",
    "        dw, dh = np.mod(dw, stride), np.mod(dh, stride)  # wh padding\n",
    "\n",
    "    dw /= 2  # divide padding into 2 sides\n",
    "    dh /= 2\n",
    "\n",
    "    if shape[::-1] != new_unpad:  # resize\n",
    "        im = cv2.resize(im, new_unpad, interpolation=cv2.INTER_LINEAR)\n",
    "    top, bottom = int(round(dh - 0.1)), int(round(dh + 0.1))\n",
    "    left, right = int(round(dw - 0.1)), int(round(dw + 0.1))\n",
    "    im = cv2.copyMakeBorder(im, top, bottom, left, right, cv2.BORDER_CONSTANT, value=color)  # add border\n",
    "    return im"
   ]
  },
  {
   "cell_type": "code",
   "execution_count": 433,
   "metadata": {},
   "outputs": [],
   "source": [
    "def vis_pose(image, pose_result, threshold=0.3, node_label=None):\n",
    "    if pose_result.shape[1] == 3: \n",
    "\n",
    "        keypoints = pose_result[:,:2]\n",
    "        keypoints_score = pose_result[:,2]\n",
    "\n",
    "        skeleton_edge = [[15, 13], [13, 11], [16, 14], [14, 12], [11, 12],\n",
    "                        [5, 11], [6, 12], [5, 6], [5, 7], [6, 8], [7, 9],\n",
    "                        [8, 10], [1, 2], [0, 1], [0, 2], [1,   3], [2, 4],\n",
    "                        [3, 5], [4, 6]]\n",
    "        for edge in skeleton_edge:\n",
    "            start = keypoints[edge[0]]\n",
    "            end = keypoints[edge[1]]\n",
    "            if keypoints_score[edge[0]] < threshold or keypoints_score[edge[1]] < threshold:\n",
    "                continue\n",
    "            image = cv2.line(image, (int(start[0]), int(start[1])), (int(end[0]), int(end[1])), (255, 255, 0), 2)\n",
    "\n",
    "        for i in range(17):\n",
    "            if keypoints_score[i] < threshold:\n",
    "                continue\n",
    "            (x, y) = keypoints[i]\n",
    "            if node_label is None:\n",
    "                color = (255, 255, 255)\n",
    "            else:\n",
    "                if node_label[i] == 0:\n",
    "                    color = (255, 255, 255)\n",
    "                elif node_label[i] == 1:\n",
    "                    color = (0, 0, 255)\n",
    "                elif node_label[i] == 2:\n",
    "                    color = (255, 0, 0)\n",
    "\n",
    "            image = cv2.circle(image, (int(x), int(y)), 8, color, -1)\n",
    "\n",
    "        # image_vis = cv2.rectangle(image, (int(bbox[0]), int(bbox[1])), (int(bbox[2]), int(bbox[3])), (0, 255, 0), 1)\n",
    "        return image\n",
    "    else: \n",
    "        keypoints = pose_result[:,:2]\n",
    "        \n",
    "\n",
    "        skeleton_edge =[[15, 13], [13, 11], [16, 14], [14, 12], [11, 12],\n",
    "                        [5, 11], [6, 12], [5, 6], [5, 7], [6, 8], [7, 9],\n",
    "                        [8, 10], [1, 2], [0, 1], [0, 2], [1,   3], [2, 4],\n",
    "                        [3, 5], [4, 6]]\n",
    "        for edge in skeleton_edge:\n",
    "            start = keypoints[edge[0]]\n",
    "            end = keypoints[edge[1]]\n",
    "            \n",
    "            image = cv2.line(image, (int(start[0]), int(start[1])), (int(end[0]), int(end[1])), (255, 0, 0), 2)\n",
    "\n",
    "        for i in range(17):\n",
    "            \n",
    "            (x, y) = keypoints[i]\n",
    "            if node_label is None:\n",
    "                color = (2, 255, 23)\n",
    "            else:\n",
    "                if node_label[i] == 0:\n",
    "                    color = (255, 255, 255)\n",
    "                elif node_label[i] == 1:\n",
    "                    color = (0, 0, 255)\n",
    "                elif node_label[i] == 2:\n",
    "                    color = (255, 0, 0)\n",
    "\n",
    "            image = cv2.circle(image, (int(x), int(y)), 8, color, -1)\n",
    "\n",
    "        # image_vis = cv2.rectangle(image, (int(bbox[0]), int(bbox[1])), (int(bbox[2]), int(bbox[3])), (0, 255, 0), 1)\n",
    "        return image"
   ]
  },
  {
   "cell_type": "code",
   "execution_count": 447,
   "metadata": {},
   "outputs": [],
   "source": [
    "import matplotlib.pyplot as plt \n",
    "import open3d as o3d\n",
    "\n",
    "\n",
    "skeleton_error  = pd.read_pickle('sample3.pkl')[0]\n",
    "kp_error = skeleton_error['keypoints']\n",
    "image_size = skeleton_error['image size']\n",
    "label = skeleton_error['label']\n",
    "skeleton_frame = np.ones((image_size[0], image_size[1], 3), dtype=np.uint8) * 0\n",
    "\n",
    "frame_vis_error = vis_pose(skeleton_frame, kp_error)\n",
    "\n",
    "frame_vis_error = resize_img(frame_vis_error)\n"
   ]
  },
  {
   "cell_type": "code",
   "execution_count": 449,
   "metadata": {},
   "outputs": [],
   "source": [
    "skeleton_true  = pd.read_pickle('sample3.pkl')[2]\n",
    "kp_true = skeleton_true['keypoints']\n",
    "image_size = skeleton_true['image size']\n",
    "label = skeleton_error['label']\n",
    "skeleton_frame = np.ones((image_size[0], image_size[1], 3), dtype=np.uint8) * 0\n",
    "frame_vis_true = vis_pose(skeleton_frame, kp_true)\n",
    "frame_vis_true = resize_img(frame_vis_true)\n"
   ]
  },
  {
   "cell_type": "code",
   "execution_count": null,
   "metadata": {},
   "outputs": [],
   "source": []
  },
  {
   "cell_type": "code",
   "execution_count": 451,
   "metadata": {},
   "outputs": [
    {
     "data": {
      "image/png": "[encoded data removed]",
      "text/plain": [
       "<Figure size 432x720 with 1 Axes>"
      ]
     },
     "metadata": {},
     "output_type": "display_data"
    }
   ],
   "source": [
    "\n",
    "figure, axis = plt.subplots(1, 1)\n",
    "figure.set_dpi=400\n",
    "figure.set_size_inches(6, 10)\n",
    "\n",
    "axis.imshow(frame_vis_true)\n",
    "axis.set_xticks([])\n",
    "axis.set_yticks([])\n",
    "figure.savefig('skeleton2.png')\n",
    "# axis[1].imshow(frame_vis_true)\n",
    "# axis[1].set_xticks([])\n",
    "# axis[1].set_yticks([])\n",
    "\n"
   ]
  },
  {
   "cell_type": "code",
   "execution_count": 452,
   "metadata": {},
   "outputs": [
    {
     "name": "stdout",
     "output_type": "stream",
     "text": [
      "Tập điểm A:\n",
      "[[207.6015625 171.       ]\n",
      " [215.0390625 163.5625   ]\n",
      " [200.1640625 163.5625   ]\n",
      " [222.4765625 156.125    ]\n",
      " [192.7265625 163.5625   ]\n",
      " [244.7890625 163.5625   ]\n",
      " [185.2890625 193.3125   ]\n",
      " [281.9765625 200.75     ]\n",
      " [215.0390625 245.375    ]\n",
      " [274.5390625 252.8125   ]\n",
      " [244.7890625 275.125    ]\n",
      " [267.1015625 275.125    ]\n",
      " [229.9140625 275.125    ]\n",
      " [274.5390625 334.625    ]\n",
      " [215.0390625 349.5      ]\n",
      " [259.6640625 423.875    ]\n",
      " [170.4140625 423.875    ]]\n",
      "\n",
      "Tập điểm B:\n",
      "[[176.5625  171.46875]\n",
      " [176.5625  151.53125]\n",
      " [166.59375 161.5    ]\n",
      " [196.5     131.59375]\n",
      " [156.625   151.53125]\n",
      " [246.34375 131.59375]\n",
      " [166.59375 201.375  ]\n",
      " [276.25    221.3125 ]\n",
      " [216.4375  261.1875 ]\n",
      " [306.15625 301.0625 ]\n",
      " [286.21875 311.03125]\n",
      " [286.21875 291.09375]\n",
      " [236.375   311.03125]\n",
      " [296.1875  430.65625]\n",
      " [206.46875 430.65625]\n",
      " [296.1875  560.25   ]\n",
      " [136.6875  550.28125]]\n",
      "\n",
      "Tập điểm A sau khi biến đổi:\n",
      "[[198.75990717 159.43609179]\n",
      " [209.53154315 147.73593254]\n",
      " [187.65029175 148.05635921]\n",
      " [220.30317912 136.03577328]\n",
      " [176.70966606 148.21657255]\n",
      " [253.29404593 147.09507918]\n",
      " [166.44499924 194.53656955]\n",
      " [308.84212301 203.99374206]\n",
      " [211.39043006 274.67533759]\n",
      " [299.08442535 284.93357679]\n",
      " [255.82889173 320.19426789]\n",
      " [288.65076882 319.71362788]\n",
      " [233.94764033 320.51469457]\n",
      " [300.94331227 411.87298185]\n",
      " [213.75628614 436.23458039]\n",
      " [281.08993751 550.6727595 ]\n",
      " [149.80242915 552.59531957]]\n"
     ]
    }
   ],
   "source": [
    "import numpy as np\n",
    "from scipy.optimize import minimize\n",
    "\n",
    "class Transform:\n",
    "    def __init__(self):\n",
    "        self.scale_x = 1.0\n",
    "        self.scale_y = 1.0\n",
    "        self.theta = 0.0\n",
    "        self.translate_x = 0.0\n",
    "        self.translate_y = 0.0\n",
    "\n",
    "    def rotate(self, theta):\n",
    "        self.theta = theta\n",
    "\n",
    "    def scale(self, scale_x, scale_y):\n",
    "        self.scale_x = scale_x\n",
    "        self.scale_y = scale_y\n",
    "\n",
    "    def translate(self, translate_x, translate_y):\n",
    "        self.translate_x = translate_x\n",
    "        self.translate_y = translate_y\n",
    "\n",
    "    def apply(self, points):\n",
    "        theta_rad = np.radians(self.theta)\n",
    "        rotation_matrix = np.array([[np.cos(theta_rad), -np.sin(theta_rad)],\n",
    "                                    [np.sin(theta_rad), np.cos(theta_rad)]])\n",
    "        scaled_points = np.dot(points, np.diag([self.scale_x, self.scale_y]))\n",
    "        translated_points = scaled_points + np.array([self.translate_x, self.translate_y])\n",
    "        rotated_points = np.dot(translated_points, rotation_matrix)\n",
    "        return rotated_points\n",
    "\n",
    "    def error_function(self, params, points_A, points_B):\n",
    "        scale_x, scale_y, theta, translate_x, translate_y = params\n",
    "        self.scale(scale_x, scale_y)\n",
    "        self.rotate(theta)\n",
    "        self.translate(translate_x, translate_y)\n",
    "        transformed_points = self.apply(points_A)\n",
    "        error = 0\n",
    "        for i in range(6, 17):  \n",
    "            error += np.sum((transformed_points[i] - points_B[i]) ** 2)\n",
    "        return error\n",
    "\n",
    "    def find_parameters(self, points_A, points_B):\n",
    "        initial_params = [self.scale_x, self.scale_y, self.theta, self.translate_x, self.translate_y]\n",
    "        result = minimize(self.error_function, initial_params, args=(points_A, points_B))\n",
    "        optimal_params = result.x\n",
    "        self.scale_x, self.scale_y, self.theta, self.translate_x, self.translate_y = optimal_params\n",
    "\n",
    "\n",
    "class AffineTransform:\n",
    "    def __init__(self):\n",
    "        self.a = 1.0\n",
    "        self.b = 0.0\n",
    "        self.c = 0.0\n",
    "        self.d = 1.0\n",
    "        self.tx = 0.0\n",
    "        self.ty = 0.0\n",
    "\n",
    "    def set_scale(self, scale_x, scale_y):\n",
    "        self.a = scale_x\n",
    "        self.d = scale_y\n",
    "\n",
    "    def set_rotation(self, theta):\n",
    "        cos_theta = np.cos(theta)\n",
    "        sin_theta = np.sin(theta)\n",
    "        self.a = cos_theta\n",
    "        self.b = -sin_theta\n",
    "        self.c = sin_theta\n",
    "        self.d = cos_theta\n",
    "\n",
    "    def set_translation(self, translate_x, translate_y):\n",
    "        self.tx = translate_x\n",
    "        self.ty = translate_y\n",
    "\n",
    "    def apply(self, points):\n",
    "        transformation_matrix = np.array([[self.a, self.b, self.tx],\n",
    "                                          [self.c, self.d, self.ty],\n",
    "                                          [0, 0, 1]])\n",
    "        homogeneous_points = np.column_stack((points, np.ones(len(points))))\n",
    "        transformed_points = np.dot(homogeneous_points, transformation_matrix.T)\n",
    "        return transformed_points[:, :2]  # Lấy các cột x, y\n",
    "\n",
    "    def error_function(self, params, points_A, points_B):\n",
    "        scale_x, scale_y, theta, translate_x, translate_y = params\n",
    "        self.set_scale(scale_x, scale_y)\n",
    "        self.set_rotation(theta)\n",
    "        self.set_translation(translate_x, translate_y)\n",
    "        transformed_points = self.apply(points_A)\n",
    "        error += np.sum((transformed_points - points_B) ** 2)\n",
    "        return error\n",
    "\n",
    "    def find_parameters(self, points_A, points_B):\n",
    "        initial_params = [self.a, self.d, 0.0, self.tx, self.ty]\n",
    "        result = minimize(self.error_function, initial_params, args=(points_A, points_B))\n",
    "        optimal_params = result.x\n",
    "        self.a, self.d, _, self.tx, self.ty = optimal_params\n",
    "\n",
    "transform = Transform()\n",
    "transform.find_parameters(kp_error[:,:2], kp_true[:,:2])\n",
    "\n",
    "points_transformed = transform.apply(kp_error[:,:2])\n",
    "\n",
    "print(\"Tập điểm A:\")\n",
    "print(kp_error[:,:2])\n",
    "\n",
    "print(\"\\nTập điểm B:\")\n",
    "print(kp_true[:,:2])\n",
    "\n",
    "print(\"\\nTập điểm A sau khi biến đổi:\")\n",
    "print(points_transformed)\n"
   ]
  },
  {
   "cell_type": "code",
   "execution_count": 453,
   "metadata": {},
   "outputs": [],
   "source": [
    "skeleton_frame = np.ones((image_size[0], image_size[1], 3), dtype=np.uint8) * 0\n",
    "# skeleton_frame = resize_img(skeleton_frame)\n",
    "frame_vis = vis_pose(skeleton_frame, points_transformed)\n",
    "frame_vis = vis_pose(skeleton_frame, kp_true)\n",
    "frame_vis = resize_img(frame_vis)"
   ]
  },
  {
   "cell_type": "code",
   "execution_count": 455,
   "metadata": {},
   "outputs": [
    {
     "data": {
      "image/png": "[encoded data removed]",
      "text/plain": [
       "<Figure size 360x720 with 1 Axes>"
      ]
     },
     "metadata": {},
     "output_type": "display_data"
    }
   ],
   "source": [
    "figure, axis = plt.subplots(1, 1)\n",
    "figure.set_dpi=400\n",
    "figure.set_size_inches(5, 10)\n",
    "axis.imshow(frame_vis)\n",
    "axis.set_xticks([])\n",
    "axis.set_yticks([])\n",
    "figure.savefig('res.png')"
   ]
  },
  {
   "cell_type": "code",
   "execution_count": 355,
   "metadata": {},
   "outputs": [],
   "source": [
    "class PoseComparison:\n",
    "    def __init__(self, skeleton1, skeleton2):\n",
    "        self.skeleton1 = skeleton1\n",
    "        self.skeleton2 = skeleton2\n",
    "        self.connections = [[6,8,10], [5, 7, 9], [8,6,12], [11,5,7], [6,12,14], [5,11,13],[12, 14,16], [11,13,15]]\n",
    "\n",
    "    def compute_angles(self, skeleton):\n",
    "        angles = []\n",
    "        for connection in self.connections:\n",
    "            point1 = skeleton[connection[0]-5]\n",
    "            point2 = skeleton[connection[1]-5]\n",
    "            point3 = skeleton[connection[2]-5]\n",
    "\n",
    "            vector1 = point1 - point2\n",
    "            vector2 = point3 - point2\n",
    "\n",
    "            dot_product = np.dot(vector1, vector2)\n",
    "            norm_product = np.linalg.norm(vector1) * np.linalg.norm(vector2)\n",
    "\n",
    "            angle = np.arccos(dot_product / norm_product)*180/np.pi\n",
    "            angles.append(angle)\n",
    "\n",
    "        return angles\n",
    "\n",
    "    def compare_poses(self, threshold=0.1):\n",
    "        angles1 = self.compute_angles(self.skeleton1)\n",
    "        angles2 = self.compute_angles(self.skeleton2)\n",
    "\n",
    "        different_angles = []\n",
    "        for i, angle1 in enumerate(angles1):\n",
    "            angle2 = angles2[i]\n",
    "            diff = np.abs(angle1 - angle2)\n",
    "            if diff > threshold:\n",
    "                different_angles.append((self.connections[i], diff))\n",
    "\n",
    "        return different_angles\n"
   ]
  },
  {
   "cell_type": "code",
   "execution_count": 356,
   "metadata": {},
   "outputs": [],
   "source": [
    "compare = PoseComparison(points_transformed, kp_true)\n"
   ]
  },
  {
   "cell_type": "code",
   "execution_count": 357,
   "metadata": {},
   "outputs": [],
   "source": [
    "different_angles = compare.compare_poses(threshold=15)"
   ]
  },
  {
   "cell_type": "code",
   "execution_count": 360,
   "metadata": {},
   "outputs": [
    {
     "data": {
      "text/plain": [
       "[([6, 8, 10], 27.94883398311285),\n",
       " ([8, 6, 12], 23.623740087628853),\n",
       " ([11, 5, 7], 108.77845217510134),\n",
       " ([6, 12, 14], 20.71443887623306),\n",
       " ([5, 11, 13], 45.55204744169046),\n",
       " ([12, 14, 16], 128.39188729435656),\n",
       " ([11, 13, 15], 16.12538651007671)]"
      ]
     },
     "execution_count": 360,
     "metadata": {},
     "output_type": "execute_result"
    }
   ],
   "source": [
    "different_angles"
   ]
  },
  {
   "cell_type": "code",
   "execution_count": 359,
   "metadata": {},
   "outputs": [
    {
     "data": {
      "text/plain": [
       "(17, 2)"
      ]
     },
     "execution_count": 359,
     "metadata": {},
     "output_type": "execute_result"
    }
   ],
   "source": [
    "points_transformed.shape"
   ]
  },
  {
   "cell_type": "code",
   "execution_count": 344,
   "metadata": {},
   "outputs": [
    {
     "data": {
      "text/plain": [
       "array([65.21858843, 65.88510705])"
      ]
     },
     "execution_count": 344,
     "metadata": {},
     "output_type": "execute_result"
    }
   ],
   "source": [
    "(points_transformed[0] - kp_true[:,:2][0])**2"
   ]
  },
  {
   "cell_type": "code",
   "execution_count": null,
   "metadata": {},
   "outputs": [],
   "source": []
  }
 ],
 "metadata": {
  "kernelspec": {
   "display_name": "Python 3",
   "language": "python",
   "name": "python3"
  },
  "language_info": {
   "codemirror_mode": {
    "name": "ipython",
    "version": 3
   },
   "file_extension": ".py",
   "mimetype": "text/x-python",
   "name": "python",
   "nbconvert_exporter": "python",
   "pygments_lexer": "ipython3",
   "version": "3.9.12"
  },
  "orig_nbformat": 4
 },
 "nbformat": 4,
 "nbformat_minor": 2
}
